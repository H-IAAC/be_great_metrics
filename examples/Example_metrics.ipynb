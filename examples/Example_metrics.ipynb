{
 "cells": [
  {
   "cell_type": "code",
   "execution_count": 1,
   "id": "ea0f3f7c-f18b-41ee-9749-73b5a1daf37a",
   "metadata": {},
   "outputs": [],
   "source": [
    "import os\n",
    "os.chdir(\"..\") # cd to great_main folder"
   ]
  },
  {
   "cell_type": "code",
   "execution_count": 2,
   "id": "a94a77a6-d53f-45d7-ae60-112aa2f2a92e",
   "metadata": {},
   "outputs": [],
   "source": [
    "## Test computation of the metrics\n",
    "%load_ext autoreload\n",
    "%autoreload 2"
   ]
  },
  {
   "cell_type": "code",
   "execution_count": 3,
   "id": "f9afae97",
   "metadata": {},
   "outputs": [
    {
     "name": "stderr",
     "output_type": "stream",
     "text": [
      "/home/dsar/miniconda3/envs/tobiasp39/lib/python3.9/site-packages/tqdm/auto.py:22: TqdmWarning: IProgress not found. Please update jupyter and ipywidgets. See https://ipywidgets.readthedocs.io/en/stable/user_install.html\n",
      "  from .autonotebook import tqdm as notebook_tqdm\n"
     ]
    }
   ],
   "source": [
    "from be_great import GReaT"
   ]
  },
  {
   "cell_type": "code",
   "execution_count": 4,
   "id": "885c551e",
   "metadata": {},
   "outputs": [],
   "source": [
    "## Load a trained model for adult either this way or use some other way to load a model.\n",
    "model = GReaT.load_from_dir(\"adult\")  "
   ]
  },
  {
   "cell_type": "markdown",
   "id": "41fb0ff7-adaa-412b-8afd-187ba689e895",
   "metadata": {},
   "source": [
    "## Test computation of the metrics"
   ]
  },
  {
   "cell_type": "code",
   "execution_count": 5,
   "id": "fc0c962e-8bd8-4c8e-9706-546b0a5cd1d0",
   "metadata": {},
   "outputs": [],
   "source": [
    "import pandas as pd\n",
    "# Load the original data files\n",
    "df_train = pd.read_csv(\"data/adult/adult_train.csv\", index_col=0)[:2000] ## only use subsets to speed up this test.\n",
    "df_test = pd.read_csv(\"data/adult/adult_test.csv\", index_col=0)[:500]"
   ]
  },
  {
   "cell_type": "markdown",
   "id": "884d33ca-da89-4beb-9640-f04b0296c889",
   "metadata": {},
   "source": [
    "It might be required to install some additional package for the metrics. Run:\n",
    "\n",
    "```pip install sdv```\n",
    "\n",
    "```pip install pomegranate```"
   ]
  },
  {
   "cell_type": "code",
   "execution_count": 6,
   "id": "9f59c0a6-e27d-406b-a3d2-461110d56c4c",
   "metadata": {},
   "outputs": [],
   "source": [
    "from metrics import *"
   ]
  },
  {
   "cell_type": "markdown",
   "id": "0e218b60-d0ae-48ea-96ea-5df2dd4ccd3d",
   "metadata": {},
   "source": [
    "The data provider will return the corresponding real or generated datasets and is used as an interface to all our metrics."
   ]
  },
  {
   "cell_type": "code",
   "execution_count": 7,
   "id": "44ce9333-5a82-4fdd-b6e0-d05de11c646a",
   "metadata": {},
   "outputs": [
    {
     "name": "stdout",
     "output_type": "stream",
     "text": [
      "Generating data for model great ...\n"
     ]
    },
    {
     "name": "stderr",
     "output_type": "stream",
     "text": [
      "2049it [00:14, 136.82it/s]                                                                                                                                                                   \n",
      "552it [00:03, 140.36it/s]                                                                                                                                                                    \n"
     ]
    }
   ],
   "source": [
    "dp = DataProvider(df_train, df_test, {\"great\": model})"
   ]
  },
  {
   "cell_type": "code",
   "execution_count": 8,
   "id": "8864597d-d751-4ddb-aea1-ab22f24e7ea3",
   "metadata": {},
   "outputs": [
    {
     "data": {
      "text/plain": [
       "(500, 15)"
      ]
     },
     "execution_count": 8,
     "metadata": {},
     "output_type": "execute_result"
    }
   ],
   "source": [
    "dp.get_full_data(\"original\", train=False).shape"
   ]
  },
  {
   "cell_type": "markdown",
   "id": "c8f4a90b-0979-430a-b756-0c3907fd2164",
   "metadata": {},
   "source": [
    "## Discriminator metric"
   ]
  },
  {
   "cell_type": "code",
   "execution_count": 9,
   "id": "a4547558-9afc-426e-a288-78364ac9563d",
   "metadata": {},
   "outputs": [],
   "source": [
    "from sklearn.metrics import accuracy_score\n",
    "disc_metric = DiscriminatorMetric(dp, accuracy_score, n_runs = 4)"
   ]
  },
  {
   "cell_type": "code",
   "execution_count": 10,
   "id": "5d9e68ae-800e-4033-900e-47ccde05fa2a",
   "metadata": {},
   "outputs": [],
   "source": [
    "metric_result = disc_metric(\"adult\", \"great\")"
   ]
  },
  {
   "cell_type": "code",
   "execution_count": 11,
   "id": "a8b957ff-057c-459a-b9ee-683e3f6556f0",
   "metadata": {},
   "outputs": [
    {
     "data": {
      "text/plain": [
       "{'discriminator_mean': 0.669, 'discriminator_std': 0.005787918451395118}"
      ]
     },
     "execution_count": 11,
     "metadata": {},
     "output_type": "execute_result"
    }
   ],
   "source": [
    "metric_result"
   ]
  },
  {
   "cell_type": "markdown",
   "id": "c1dc579a-da10-4418-b1e2-fd4cbd6a1381",
   "metadata": {},
   "source": [
    "## Machine Learning efficiency metric"
   ]
  },
  {
   "cell_type": "code",
   "execution_count": 12,
   "id": "699bcebb-4168-4926-b236-600c0691b250",
   "metadata": {},
   "outputs": [],
   "source": [
    "from sklearn.ensemble import RandomForestClassifier\n",
    "mle_metric = MLEfficiency(dp, RandomForestClassifier, accuracy_score)"
   ]
  },
  {
   "cell_type": "code",
   "execution_count": 13,
   "id": "09b13a05-46ed-4317-8419-6c6fdce6e67c",
   "metadata": {},
   "outputs": [
    {
     "data": {
      "text/plain": [
       "{'mle_scores': [0.834, 0.836, 0.836, 0.836, 0.83],\n",
       " 'mle_mean': 0.8343999999999999,\n",
       " 'mle_std': 0.0023323807579381226}"
      ]
     },
     "execution_count": 13,
     "metadata": {},
     "output_type": "execute_result"
    }
   ],
   "source": [
    "mle_metric(\"adult\", \"great\")"
   ]
  },
  {
   "cell_type": "markdown",
   "id": "885c5d2f-70fa-481e-b3e6-934989233465",
   "metadata": {},
   "source": [
    "## Distance to closest record"
   ]
  },
  {
   "cell_type": "code",
   "execution_count": 14,
   "id": "7777a618-2e67-4b3e-95d5-57eda5884d08",
   "metadata": {},
   "outputs": [],
   "source": [
    "dtcr_metric = DTCR(dp, n_samples=500)"
   ]
  },
  {
   "cell_type": "code",
   "execution_count": 15,
   "id": "e3225424-5c6d-4d2c-8415-21181e0890fd",
   "metadata": {},
   "outputs": [
    {
     "name": "stdout",
     "output_type": "stream",
     "text": [
      "(500, 15)\n"
     ]
    }
   ],
   "source": [
    "metric_res = dtcr_metric(\"adult\", \"great\")"
   ]
  },
  {
   "cell_type": "code",
   "execution_count": 16,
   "id": "c5da327d-ceac-47a3-8a35-6e8ad28b5545",
   "metadata": {},
   "outputs": [
    {
     "data": {
      "text/plain": [
       "(0.0, 500.0)"
      ]
     },
     "execution_count": 16,
     "metadata": {},
     "output_type": "execute_result"
    },
    {
     "data": {
      "image/png": "[encoded data removed]",
      "text/plain": [
       "<Figure size 640x480 with 1 Axes>"
      ]
     },
     "metadata": {},
     "output_type": "display_data"
    }
   ],
   "source": [
    "import matplotlib.pyplot as plt\n",
    "plt.hist(metric_res[\"mins\"], bins=1000)\n",
    "plt.xlim([0,500])"
   ]
  },
  {
   "cell_type": "code",
   "execution_count": 17,
   "id": "ae71360e-876b-4de9-b870-0dd9c91cc35e",
   "metadata": {},
   "outputs": [
    {
     "name": "stdout",
     "output_type": "stream",
     "text": [
      "Identical records:  10 of 500\n"
     ]
    }
   ],
   "source": [
    "import numpy as np\n",
    "min_arr = np.array(metric_res[\"mins\"])\n",
    "print(\"Identical records: \", np.sum(min_arr==0), \"of\", len(min_arr))"
   ]
  },
  {
   "cell_type": "code",
   "execution_count": 22,
   "id": "04eada03-023f-4627-ae3b-6920843f9440",
   "metadata": {},
   "outputs": [],
   "source": [
    "## How many duplicates in one generated dataset?\n",
    "ndr = NonDuplicateRate(dp, n_samples=500)"
   ]
  },
  {
   "cell_type": "code",
   "execution_count": 23,
   "id": "72003bdb-9ea8-41e3-b67f-96d8d4e5201e",
   "metadata": {},
   "outputs": [
    {
     "data": {
      "text/plain": [
       "{'non_dup_rate': 0.9}"
      ]
     },
     "execution_count": 23,
     "metadata": {},
     "output_type": "execute_result"
    }
   ],
   "source": [
    "ndr(\"adult\", \"great\")"
   ]
  }
 ],
 "metadata": {
  "kernelspec": {
   "display_name": "data-science",
   "language": "python",
   "name": "data-science"
  },
  "language_info": {
   "codemirror_mode": {
    "name": "ipython",
    "version": 3
   },
   "file_extension": ".py",
   "mimetype": "text/x-python",
   "name": "python",
   "nbconvert_exporter": "python",
   "pygments_lexer": "ipython3",
   "version": "3.9.13"
  }
 },
 "nbformat": 4,
 "nbformat_minor": 5
}
