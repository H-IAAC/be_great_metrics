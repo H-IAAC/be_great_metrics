{
 "cells": [
  {
   "cell_type": "code",
   "execution_count": 1,
   "id": "7fb16d17",
   "metadata": {},
   "outputs": [],
   "source": [
    "import os\n",
    "os.chdir(\"..\")"
   ]
  },
  {
   "cell_type": "code",
   "execution_count": 2,
   "id": "a94a77a6-d53f-45d7-ae60-112aa2f2a92e",
   "metadata": {},
   "outputs": [],
   "source": [
    "## Test computation of the metrics\n",
    "%load_ext autoreload\n",
    "%autoreload 2"
   ]
  },
  {
   "cell_type": "code",
   "execution_count": 3,
   "id": "f9afae97",
   "metadata": {},
   "outputs": [
    {
     "name": "stderr",
     "output_type": "stream",
     "text": [
      "/home/dsar/miniconda3/envs/tobiasp39/lib/python3.9/site-packages/tqdm/auto.py:22: TqdmWarning: IProgress not found. Please update jupyter and ipywidgets. See https://ipywidgets.readthedocs.io/en/stable/user_install.html\n",
      "  from .autonotebook import tqdm as notebook_tqdm\n"
     ]
    }
   ],
   "source": [
    "from be_great import GReaT"
   ]
  },
  {
   "cell_type": "code",
   "execution_count": 4,
   "id": "885c551e",
   "metadata": {},
   "outputs": [],
   "source": [
    "## Load a trained model for adult either this way or use some other way to load a model.\n",
    "model = GReaT.load_from_dir(\"adult\")  "
   ]
  },
  {
   "cell_type": "markdown",
   "id": "41fb0ff7-adaa-412b-8afd-187ba689e895",
   "metadata": {},
   "source": [
    "## Test computation of the metrics"
   ]
  },
  {
   "cell_type": "code",
   "execution_count": 5,
   "id": "fc0c962e-8bd8-4c8e-9706-546b0a5cd1d0",
   "metadata": {},
   "outputs": [],
   "source": [
    "import pandas as pd\n",
    "# Load the original data files\n",
    "df_train = pd.read_csv(\"data/adult/adult_train.csv\", index_col=0)[:2000] ## only use subsets to speed up this test.\n",
    "df_test = pd.read_csv(\"data/adult/adult_test.csv\", index_col=0)[:500]"
   ]
  },
  {
   "cell_type": "markdown",
   "id": "884d33ca-da89-4beb-9640-f04b0296c889",
   "metadata": {},
   "source": [
    "It might be required to install some additional package for the metrics. Run:\n",
    "\n",
    "```pip install sdv```\n",
    "\n",
    "```pip install pomegranate```"
   ]
  },
  {
   "cell_type": "code",
   "execution_count": 6,
   "id": "9f59c0a6-e27d-406b-a3d2-461110d56c4c",
   "metadata": {},
   "outputs": [],
   "source": [
    "from metrics import *"
   ]
  },
  {
   "cell_type": "markdown",
   "id": "0e218b60-d0ae-48ea-96ea-5df2dd4ccd3d",
   "metadata": {},
   "source": [
    "The data provider will return the corresponding real or generated datasets and is used as an interface to all our metrics."
   ]
  },
  {
   "cell_type": "code",
   "execution_count": 7,
   "id": "44ce9333-5a82-4fdd-b6e0-d05de11c646a",
   "metadata": {},
   "outputs": [
    {
     "name": "stdout",
     "output_type": "stream",
     "text": [
      "Generating data for model great ...\n"
     ]
    },
    {
     "name": "stderr",
     "output_type": "stream",
     "text": [
      "2054it [00:14, 138.71it/s]                                                                                                                                                                   \n",
      "556it [00:03, 142.92it/s]                                                                                                                                                                    \n"
     ]
    }
   ],
   "source": [
    "dp = DataProvider(df_train, df_test, {\"great\": model})"
   ]
  },
  {
   "cell_type": "code",
   "execution_count": 8,
   "id": "8864597d-d751-4ddb-aea1-ab22f24e7ea3",
   "metadata": {},
   "outputs": [
    {
     "data": {
      "text/plain": [
       "(500, 15)"
      ]
     },
     "execution_count": 8,
     "metadata": {},
     "output_type": "execute_result"
    }
   ],
   "source": [
    "dp.get_full_data(\"original\", train=False).shape"
   ]
  },
  {
   "cell_type": "markdown",
   "id": "c8f4a90b-0979-430a-b756-0c3907fd2164",
   "metadata": {},
   "source": [
    "## Discriminator metric"
   ]
  },
  {
   "cell_type": "code",
   "execution_count": 10,
   "id": "a4547558-9afc-426e-a288-78364ac9563d",
   "metadata": {},
   "outputs": [],
   "source": [
    "from sklearn.metrics import accuracy_score\n",
    "disc_metric = DiscriminatorMetric(dp, accuracy_score, n_runs = 4)"
   ]
  },
  {
   "cell_type": "code",
   "execution_count": 12,
   "id": "5d9e68ae-800e-4033-900e-47ccde05fa2a",
   "metadata": {},
   "outputs": [],
   "source": [
    "metric_result = disc_metric(\"adult\", \"great\")"
   ]
  },
  {
   "cell_type": "code",
   "execution_count": 13,
   "id": "a8b957ff-057c-459a-b9ee-683e3f6556f0",
   "metadata": {},
   "outputs": [
    {
     "data": {
      "text/plain": [
       "{'discriminator_mean': 0.6637500000000001,\n",
       " 'discriminator_std': 0.002487468592766552}"
      ]
     },
     "execution_count": 13,
     "metadata": {},
     "output_type": "execute_result"
    }
   ],
   "source": [
    "metric_result"
   ]
  },
  {
   "cell_type": "markdown",
   "id": "c1dc579a-da10-4418-b1e2-fd4cbd6a1381",
   "metadata": {},
   "source": [
    "## Machine Learning efficiency metric"
   ]
  },
  {
   "cell_type": "code",
   "execution_count": 18,
   "id": "699bcebb-4168-4926-b236-600c0691b250",
   "metadata": {},
   "outputs": [],
   "source": [
    "from sklearn.ensemble import RandomForestClassifier\n",
    "mle_metric = MLEfficiency(dp, RandomForestClassifier, accuracy_score)"
   ]
  },
  {
   "cell_type": "code",
   "execution_count": 19,
   "id": "09b13a05-46ed-4317-8419-6c6fdce6e67c",
   "metadata": {},
   "outputs": [
    {
     "data": {
      "text/plain": [
       "{'mle_scores': [0.838, 0.836, 0.838, 0.84, 0.836],\n",
       " 'mle_mean': 0.8375999999999999,\n",
       " 'mle_std': 0.0014966629547095778}"
      ]
     },
     "execution_count": 19,
     "metadata": {},
     "output_type": "execute_result"
    }
   ],
   "source": [
    "mle_metric(\"adult\", \"great\")"
   ]
  },
  {
   "cell_type": "markdown",
   "id": "885c5d2f-70fa-481e-b3e6-934989233465",
   "metadata": {},
   "source": [
    "## Distance to closest record"
   ]
  },
  {
   "cell_type": "code",
   "execution_count": 33,
   "id": "7777a618-2e67-4b3e-95d5-57eda5884d08",
   "metadata": {},
   "outputs": [],
   "source": [
    "dtcr_metric = DTCR(dp, n_samples=500)"
   ]
  },
  {
   "cell_type": "code",
   "execution_count": 34,
   "id": "e3225424-5c6d-4d2c-8415-21181e0890fd",
   "metadata": {},
   "outputs": [
    {
     "name": "stdout",
     "output_type": "stream",
     "text": [
      "(500, 15)\n"
     ]
    }
   ],
   "source": [
    "metric_res = dtcr_metric(\"adult\", \"great\")"
   ]
  },
  {
   "cell_type": "code",
   "execution_count": 35,
   "id": "c5da327d-ceac-47a3-8a35-6e8ad28b5545",
   "metadata": {},
   "outputs": [
    {
     "data": {
      "text/plain": [
       "(0.0, 500.0)"
      ]
     },
     "execution_count": 35,
     "metadata": {},
     "output_type": "execute_result"
    },
    {
     "data": {
      "image/png": "[encoded data removed]",
      "text/plain": [
       "<Figure size 640x480 with 1 Axes>"
      ]
     },
     "metadata": {},
     "output_type": "display_data"
    }
   ],
   "source": [
    "import matplotlib.pyplot as plt\n",
    "plt.hist(metric_res[\"mins\"], bins=1000)\n",
    "plt.xlim([0,500])"
   ]
  },
  {
   "cell_type": "code",
   "execution_count": 40,
   "id": "ae71360e-876b-4de9-b870-0dd9c91cc35e",
   "metadata": {},
   "outputs": [
    {
     "name": "stdout",
     "output_type": "stream",
     "text": [
      "Identical records:  11 of 500\n"
     ]
    }
   ],
   "source": [
    "import numpy as np\n",
    "min_arr = np.array(metric_res[\"mins\"])\n",
    "print(\"Identical records: \", np.sum(min_arr==0), \"of\", len(min_arr))"
   ]
  },
  {
   "cell_type": "code",
   "execution_count": null,
   "id": "af8078e5-1158-45ca-8c70-1d11c3d42a0d",
   "metadata": {},
   "outputs": [],
   "source": [
    "## Todo NLL metric"
   ]
  },
  {
   "cell_type": "code",
   "execution_count": 9,
   "id": "446b6314-e307-430f-9421-ab03d1da7ec4",
   "metadata": {},
   "outputs": [],
   "source": [
    "nll_met = NLLMetric(dp)"
   ]
  },
  {
   "cell_type": "code",
   "execution_count": 10,
   "id": "86641df9-dc87-4d6e-9ff3-2bd5d2de862c",
   "metadata": {},
   "outputs": [
    {
     "ename": "ImportError",
     "evalue": "Please install pomegranate with `pip install pomegranate`",
     "output_type": "error",
     "traceback": [
      "\u001b[0;31m---------------------------------------------------------------------------\u001b[0m",
      "\u001b[0;31mImportError\u001b[0m                               Traceback (most recent call last)",
      "File \u001b[0;32m~/miniconda3/envs/tobiasp39/lib/python3.9/site-packages/sdmetrics/single_table/bayesian_network.py:20\u001b[0m, in \u001b[0;36mBNLikelihoodBase._likelihoods\u001b[0;34m(cls, real_data, synthetic_data, metadata, structure)\u001b[0m\n\u001b[1;32m     19\u001b[0m \u001b[38;5;28;01mtry\u001b[39;00m:\n\u001b[0;32m---> 20\u001b[0m     \u001b[38;5;28;01mfrom\u001b[39;00m \u001b[38;5;21;01mpomegranate\u001b[39;00m \u001b[38;5;28;01mimport\u001b[39;00m BayesianNetwork\n\u001b[1;32m     21\u001b[0m \u001b[38;5;28;01mexcept\u001b[39;00m \u001b[38;5;167;01mImportError\u001b[39;00m:\n",
      "\u001b[0;31mImportError\u001b[0m: cannot import name 'BayesianNetwork' from 'pomegranate' (/home/dsar/miniconda3/envs/tobiasp39/lib/python3.9/site-packages/pomegranate/__init__.py)",
      "\nDuring handling of the above exception, another exception occurred:\n",
      "\u001b[0;31mImportError\u001b[0m                               Traceback (most recent call last)",
      "Cell \u001b[0;32mIn [10], line 1\u001b[0m\n\u001b[0;32m----> 1\u001b[0m \u001b[43mnll_met\u001b[49m\u001b[43m(\u001b[49m\u001b[38;5;124;43m\"\u001b[39;49m\u001b[38;5;124;43madult\u001b[39;49m\u001b[38;5;124;43m\"\u001b[39;49m\u001b[43m,\u001b[49m\u001b[43m \u001b[49m\u001b[38;5;124;43m\"\u001b[39;49m\u001b[38;5;124;43mgreat\u001b[39;49m\u001b[38;5;124;43m\"\u001b[39;49m\u001b[43m)\u001b[49m\n",
      "File \u001b[0;32m~/Documents/Tobias/be_great/metrics/nll_metric.py:32\u001b[0m, in \u001b[0;36mNLLMetric.__call__\u001b[0;34m(self, dataset_name, model_name)\u001b[0m\n\u001b[1;32m     30\u001b[0m \u001b[38;5;28;01mif\u001b[39;00m \u001b[38;5;28mself\u001b[39m\u001b[38;5;241m.\u001b[39mdensity_model \u001b[38;5;241m==\u001b[39m \u001b[38;5;124m\"\u001b[39m\u001b[38;5;124mbn\u001b[39m\u001b[38;5;124m\"\u001b[39m:\n\u001b[1;32m     31\u001b[0m     likelihood_provider \u001b[38;5;241m=\u001b[39m BNLogLikelihood()\n\u001b[0;32m---> 32\u001b[0m     res \u001b[38;5;241m=\u001b[39m \u001b[43mlikelihood_provider\u001b[49m\u001b[38;5;241;43m.\u001b[39;49m\u001b[43mcompute\u001b[49m\u001b[43m(\u001b[49m\u001b[43mdata_org\u001b[49m\u001b[43m,\u001b[49m\u001b[43m \u001b[49m\u001b[43mdata_fake\u001b[49m\u001b[43m)\u001b[49m\n\u001b[1;32m     33\u001b[0m \u001b[38;5;28;01melif\u001b[39;00m \u001b[38;5;28mself\u001b[39m\u001b[38;5;241m.\u001b[39mdensity_model \u001b[38;5;241m==\u001b[39m \u001b[38;5;124m\"\u001b[39m\u001b[38;5;124mgmm\u001b[39m\u001b[38;5;124m\"\u001b[39m:\n\u001b[1;32m     34\u001b[0m     likelihood_provider \u001b[38;5;241m=\u001b[39m GMLogLikelihood()\n",
      "File \u001b[0;32m~/miniconda3/envs/tobiasp39/lib/python3.9/site-packages/sdmetrics/single_table/bayesian_network.py:193\u001b[0m, in \u001b[0;36mBNLogLikelihood.compute\u001b[0;34m(cls, real_data, synthetic_data, metadata, structure)\u001b[0m\n\u001b[1;32m    148\u001b[0m \u001b[38;5;129m@classmethod\u001b[39m\n\u001b[1;32m    149\u001b[0m \u001b[38;5;28;01mdef\u001b[39;00m \u001b[38;5;21mcompute\u001b[39m(\u001b[38;5;28mcls\u001b[39m, real_data, synthetic_data, metadata\u001b[38;5;241m=\u001b[39m\u001b[38;5;28;01mNone\u001b[39;00m, structure\u001b[38;5;241m=\u001b[39m\u001b[38;5;28;01mNone\u001b[39;00m):\n\u001b[1;32m    150\u001b[0m     \u001b[38;5;124;03m\"\"\"Compute this metric.\u001b[39;00m\n\u001b[1;32m    151\u001b[0m \n\u001b[1;32m    152\u001b[0m \u001b[38;5;124;03m    This fits a BayesianNetwork to the real data and then evaluates how\u001b[39;00m\n\u001b[0;32m   (...)\u001b[0m\n\u001b[1;32m    191\u001b[0m \u001b[38;5;124;03m            Mean of the log probabilities returned by the Bayesian Network.\u001b[39;00m\n\u001b[1;32m    192\u001b[0m \u001b[38;5;124;03m    \"\"\"\u001b[39;00m\n\u001b[0;32m--> 193\u001b[0m     likelihoods \u001b[38;5;241m=\u001b[39m \u001b[38;5;28;43mcls\u001b[39;49m\u001b[38;5;241;43m.\u001b[39;49m\u001b[43m_likelihoods\u001b[49m\u001b[43m(\u001b[49m\u001b[43mreal_data\u001b[49m\u001b[43m,\u001b[49m\u001b[43m \u001b[49m\u001b[43msynthetic_data\u001b[49m\u001b[43m,\u001b[49m\u001b[43m \u001b[49m\u001b[43mmetadata\u001b[49m\u001b[43m,\u001b[49m\u001b[43m \u001b[49m\u001b[43mstructure\u001b[49m\u001b[43m)\u001b[49m\n\u001b[1;32m    194\u001b[0m     likelihoods[np\u001b[38;5;241m.\u001b[39mwhere(likelihoods \u001b[38;5;241m==\u001b[39m \u001b[38;5;241m0\u001b[39m)] \u001b[38;5;241m=\u001b[39m \u001b[38;5;241m1e-8\u001b[39m\n\u001b[1;32m    195\u001b[0m     \u001b[38;5;28;01mreturn\u001b[39;00m np\u001b[38;5;241m.\u001b[39mmean(np\u001b[38;5;241m.\u001b[39mlog(likelihoods))\n",
      "File \u001b[0;32m~/miniconda3/envs/tobiasp39/lib/python3.9/site-packages/sdmetrics/single_table/bayesian_network.py:22\u001b[0m, in \u001b[0;36mBNLikelihoodBase._likelihoods\u001b[0;34m(cls, real_data, synthetic_data, metadata, structure)\u001b[0m\n\u001b[1;32m     20\u001b[0m     \u001b[38;5;28;01mfrom\u001b[39;00m \u001b[38;5;21;01mpomegranate\u001b[39;00m \u001b[38;5;28;01mimport\u001b[39;00m BayesianNetwork\n\u001b[1;32m     21\u001b[0m \u001b[38;5;28;01mexcept\u001b[39;00m \u001b[38;5;167;01mImportError\u001b[39;00m:\n\u001b[0;32m---> 22\u001b[0m     \u001b[38;5;28;01mraise\u001b[39;00m \u001b[38;5;167;01mImportError\u001b[39;00m(\u001b[38;5;124m'\u001b[39m\u001b[38;5;124mPlease install pomegranate with `pip install pomegranate`\u001b[39m\u001b[38;5;124m'\u001b[39m)\n\u001b[1;32m     24\u001b[0m real_data, synthetic_data, metadata \u001b[38;5;241m=\u001b[39m \u001b[38;5;28mcls\u001b[39m\u001b[38;5;241m.\u001b[39m_validate_inputs(\n\u001b[1;32m     25\u001b[0m     real_data, synthetic_data, metadata)\n\u001b[1;32m     26\u001b[0m structure \u001b[38;5;241m=\u001b[39m metadata\u001b[38;5;241m.\u001b[39mget(\u001b[38;5;124m'\u001b[39m\u001b[38;5;124mstructure\u001b[39m\u001b[38;5;124m'\u001b[39m, structure)\n",
      "\u001b[0;31mImportError\u001b[0m: Please install pomegranate with `pip install pomegranate`"
     ]
    }
   ],
   "source": [
    "nll_met(\"adult\", \"great\")"
   ]
  },
  {
   "cell_type": "code",
   "execution_count": 11,
   "id": "4e115203-a222-4f1b-b2d8-5c73c99bd92f",
   "metadata": {},
   "outputs": [
    {
     "ename": "ImportError",
     "evalue": "cannot import name 'BayesianNetwork' from 'pomegranate' (/home/dsar/miniconda3/envs/tobiasp39/lib/python3.9/site-packages/pomegranate/__init__.py)",
     "output_type": "error",
     "traceback": [
      "\u001b[0;31m---------------------------------------------------------------------------\u001b[0m",
      "\u001b[0;31mImportError\u001b[0m                               Traceback (most recent call last)",
      "Cell \u001b[0;32mIn [11], line 1\u001b[0m\n\u001b[0;32m----> 1\u001b[0m \u001b[38;5;28;01mfrom\u001b[39;00m \u001b[38;5;21;01mpomegranate\u001b[39;00m \u001b[38;5;28;01mimport\u001b[39;00m BayesianNetwork\n",
      "\u001b[0;31mImportError\u001b[0m: cannot import name 'BayesianNetwork' from 'pomegranate' (/home/dsar/miniconda3/envs/tobiasp39/lib/python3.9/site-packages/pomegranate/__init__.py)"
     ]
    }
   ],
   "source": [
    "from pomegranate import BayesianNetwork"
   ]
  },
  {
   "cell_type": "markdown",
   "id": "b0b228e8-37ef-4790-8d8f-33e5ed37cf95",
   "metadata": {},
   "source": [
    "## Test accuracy of GReaT."
   ]
  },
  {
   "cell_type": "code",
   "execution_count": null,
   "id": "167a1159-0d9d-4042-ac84-8d0009d4c598",
   "metadata": {},
   "outputs": [],
   "source": []
  },
  {
   "cell_type": "code",
   "execution_count": null,
   "id": "263f18cd-16a2-4f4c-9878-49aae82a1fe9",
   "metadata": {},
   "outputs": [],
   "source": [
    "import numpy as np\n",
    "df_test= df_test.apply(lambda x: (x if np.random.rand() > 0.5 else np.nan))"
   ]
  },
  {
   "cell_type": "code",
   "execution_count": null,
   "id": "0a1cf025-fc12-4f1e-85d6-26a7ff1526bf",
   "metadata": {},
   "outputs": [],
   "source": [
    "df_test"
   ]
  },
  {
   "cell_type": "code",
   "execution_count": null,
   "id": "b6259b8e-5337-47c6-b459-4a3aed33a656",
   "metadata": {},
   "outputs": [],
   "source": [
    "df_test_labels = df_test[\"income\"].copy()\n",
    "df_test[\"income\"] = float(\"nan\")"
   ]
  },
  {
   "cell_type": "code",
   "execution_count": null,
   "id": "18a103a6-33a6-4634-80b2-ae2b4dbc471e",
   "metadata": {},
   "outputs": [],
   "source": [
    "df_test."
   ]
  },
  {
   "cell_type": "code",
   "execution_count": null,
   "id": "053c1cb9-c434-4e46-ab0f-8ce6e8145ec4",
   "metadata": {},
   "outputs": [],
   "source": [
    "df_synth_miss = model.impute(df_test, max_length=200, max_retries=10)"
   ]
  },
  {
   "cell_type": "code",
   "execution_count": null,
   "id": "9091357d-5af8-4bce-a448-33d70a39d419",
   "metadata": {},
   "outputs": [],
   "source": [
    "df_synth_miss[\"income\"]"
   ]
  },
  {
   "cell_type": "code",
   "execution_count": null,
   "id": "b4540d9d-8d79-48d5-b760-e2970ea06ab0",
   "metadata": {},
   "outputs": [],
   "source": [
    "(df_test_labels[df_synth_miss.index] == df_synth_miss[\"income\"]).mean()"
   ]
  },
  {
   "cell_type": "code",
   "execution_count": null,
   "id": "954500d1-3c6a-473d-9440-632654cf9c02",
   "metadata": {},
   "outputs": [],
   "source": [
    "df_test = pd.read_csv(\"../great_private/data/adult/adult_test.csv\", index_col=0)\n",
    "df_test_labels = df_test[\"age\"].copy()\n",
    "df_test[\"age\"] = float(\"nan\")"
   ]
  },
  {
   "cell_type": "code",
   "execution_count": null,
   "id": "7ce76188-e92b-489b-b4ad-f84620167b74",
   "metadata": {},
   "outputs": [],
   "source": [
    "df_synth_miss = model.impute(df_test, max_length=200, max_retries=10)"
   ]
  },
  {
   "cell_type": "code",
   "execution_count": null,
   "id": "8e026719-cb6d-4030-9ef5-02d318a3f34e",
   "metadata": {},
   "outputs": [],
   "source": [
    "(df_test_labels[df_synth_miss.index] == df_synth_miss[\"age\"]).mean()"
   ]
  },
  {
   "cell_type": "code",
   "execution_count": null,
   "id": "fda418cd",
   "metadata": {},
   "outputs": [],
   "source": [
    "row = df_synth_miss.iloc[3]\n",
    "row[pd.isna(row)].index"
   ]
  },
  {
   "cell_type": "code",
   "execution_count": null,
   "id": "299a7c85",
   "metadata": {},
   "outputs": [],
   "source": [
    "import pandas as pd"
   ]
  },
  {
   "cell_type": "code",
   "execution_count": null,
   "id": "476bee75",
   "metadata": {},
   "outputs": [],
   "source": [
    "df_synth"
   ]
  },
  {
   "cell_type": "code",
   "execution_count": null,
   "id": "398b2525",
   "metadata": {},
   "outputs": [],
   "source": [
    "import numpy as np\n",
    "def random_drop(df_in):\n",
    "    \"\"\" Randomly drop some values. \"\"\"\n",
    "    df_out = df_in.copy()\n",
    "    for clm in df_out.columns:\n",
    "        df_out[clm]=df_out[clm].apply(lambda x: (x if np.random.rand() > 0.5 else np.nan))\n",
    "    return df_out"
   ]
  },
  {
   "cell_type": "code",
   "execution_count": null,
   "id": "88bb8f47-8e0d-48d1-8dda-0ab6b7761ce4",
   "metadata": {},
   "outputs": [],
   "source": [
    "df_out"
   ]
  },
  {
   "cell_type": "code",
   "execution_count": null,
   "id": "84b4acba",
   "metadata": {},
   "outputs": [],
   "source": [
    "df_synth_miss = random_drop(df_synth)\n",
    "# Some edge cases\n",
    "df_synth_miss.iloc[8] = np.nan\n",
    "df_synth_miss = pd.concat((df_synth_miss, df_synth.iloc[[0]]), axis=0, ignore_index=True)"
   ]
  },
  {
   "cell_type": "code",
   "execution_count": null,
   "id": "2c2f10c2",
   "metadata": {},
   "outputs": [],
   "source": [
    "df_synth_miss"
   ]
  },
  {
   "cell_type": "code",
   "execution_count": null,
   "id": "835ca493",
   "metadata": {},
   "outputs": [],
   "source": [
    "from great_utils import _partial_df_to_promts, _get_random_missing"
   ]
  },
  {
   "cell_type": "code",
   "execution_count": null,
   "id": "29f64452",
   "metadata": {},
   "outputs": [],
   "source": [
    "res_lists = _partial_df_to_promts(df_synth_miss)"
   ]
  },
  {
   "cell_type": "code",
   "execution_count": null,
   "id": "b4d9f5ee",
   "metadata": {},
   "outputs": [],
   "source": [
    "res_lists"
   ]
  },
  {
   "cell_type": "code",
   "execution_count": null,
   "id": "1274e052",
   "metadata": {},
   "outputs": [],
   "source": [
    "[len(res_lists[i]) for i in range(len(res_lists))]"
   ]
  },
  {
   "cell_type": "code",
   "execution_count": null,
   "id": "e67a748b",
   "metadata": {},
   "outputs": [],
   "source": [
    "var = model.impute(df_synth_miss, max_length=200, max_retries=5)"
   ]
  },
  {
   "cell_type": "code",
   "execution_count": null,
   "id": "e6163d8c",
   "metadata": {},
   "outputs": [],
   "source": [
    "var"
   ]
  },
  {
   "cell_type": "code",
   "execution_count": null,
   "id": "a5463448",
   "metadata": {},
   "outputs": [],
   "source": [
    "len(df_list)"
   ]
  },
  {
   "cell_type": "code",
   "execution_count": null,
   "id": "57d08f6f",
   "metadata": {},
   "outputs": [],
   "source": [
    "df_list[2]"
   ]
  },
  {
   "cell_type": "code",
   "execution_count": null,
   "id": "c67ac775",
   "metadata": {},
   "outputs": [],
   "source": [
    "model"
   ]
  },
  {
   "cell_type": "code",
   "execution_count": null,
   "id": "aa64b976",
   "metadata": {},
   "outputs": [],
   "source": [
    "### Impute files"
   ]
  },
  {
   "cell_type": "code",
   "execution_count": null,
   "id": "c145687c",
   "metadata": {},
   "outputs": [],
   "source": [
    "for filename in [\"imputation/df_test_2.txt\"]:\n",
    "    print(filename)\n",
    "    df = pd.read_csv(filename, index_col=0)\n",
    "    df.rename(columns = {'50K':'income', \"education-num\": \"education_num\"}, inplace = True)\n",
    "    df_synth_miss = model.impute(df, max_length=200, max_retries=15)\n",
    "    df_synth_miss=df_synth_miss.set_index(df.index)\n",
    "    df_synth_miss.to_csv(filename[:-4]+ \"_great_impute.txt\")"
   ]
  },
  {
   "cell_type": "code",
   "execution_count": null,
   "id": "bda89bbe",
   "metadata": {},
   "outputs": [],
   "source": [
    "df_w_idx = df.copy().reset_index()"
   ]
  },
  {
   "cell_type": "code",
   "execution_count": null,
   "id": "6017552b",
   "metadata": {},
   "outputs": [],
   "source": [
    "unsucessful = df_w_idx.iloc[[2038, 4231]]"
   ]
  },
  {
   "cell_type": "code",
   "execution_count": null,
   "id": "d3d55596",
   "metadata": {},
   "outputs": [],
   "source": [
    "unsucessful"
   ]
  },
  {
   "cell_type": "code",
   "execution_count": null,
   "id": "54fa0116",
   "metadata": {},
   "outputs": [],
   "source": [
    "df_w_idx.iloc[[4229, 4230, 4231, 4232, 4233, 4234]]"
   ]
  },
  {
   "cell_type": "code",
   "execution_count": null,
   "id": "5772e06d",
   "metadata": {},
   "outputs": [],
   "source": [
    "df_synth_miss.iloc[[4229, 4230, 4231, 4232, 4233, 4234]]"
   ]
  },
  {
   "cell_type": "code",
   "execution_count": null,
   "id": "00b6649a",
   "metadata": {},
   "outputs": [],
   "source": [
    "res = model.impute(unsucessful.drop(\"index\", axis=1), max_length=200, max_retries=1)"
   ]
  },
  {
   "cell_type": "code",
   "execution_count": null,
   "id": "4c709617",
   "metadata": {},
   "outputs": [],
   "source": [
    "res"
   ]
  },
  {
   "cell_type": "code",
   "execution_count": null,
   "id": "a5c9eb1f",
   "metadata": {},
   "outputs": [],
   "source": [
    "res.iloc[0]"
   ]
  },
  {
   "cell_type": "code",
   "execution_count": null,
   "id": "87c5fc4f",
   "metadata": {},
   "outputs": [],
   "source": [
    "index = df.index.drop(2180).drop(4554)"
   ]
  },
  {
   "cell_type": "code",
   "execution_count": null,
   "id": "e90f6cb8",
   "metadata": {},
   "outputs": [],
   "source": [
    "index"
   ]
  },
  {
   "cell_type": "code",
   "execution_count": null,
   "id": "05650558",
   "metadata": {},
   "outputs": [],
   "source": [
    "2180 in index"
   ]
  },
  {
   "cell_type": "code",
   "execution_count": null,
   "id": "e356c5ef",
   "metadata": {},
   "outputs": [],
   "source": [
    "df_synth_miss_reindex = df_synth_miss.set_index(index)"
   ]
  },
  {
   "cell_type": "code",
   "execution_count": null,
   "id": "09d7aab7",
   "metadata": {},
   "outputs": [],
   "source": [
    "df_synth_miss_reindex.loc[2180] = res.iloc[0]"
   ]
  },
  {
   "cell_type": "code",
   "execution_count": null,
   "id": "4429b8fd",
   "metadata": {},
   "outputs": [],
   "source": [
    "df_synth_miss_reindex.loc[4554] = res.iloc[1]"
   ]
  },
  {
   "cell_type": "code",
   "execution_count": null,
   "id": "64455879",
   "metadata": {},
   "outputs": [],
   "source": [
    "df_synth_miss_reindex.loc[2180]"
   ]
  },
  {
   "cell_type": "code",
   "execution_count": null,
   "id": "b4b5dbd2",
   "metadata": {},
   "outputs": [],
   "source": [
    "df_synth_miss_reindex = df_synth_miss_reindex.sort_index(ascending=True)\n",
    "df_synth_miss_reindex.to_csv(\"imputation/df_test_2_great_impute.txt\")"
   ]
  },
  {
   "cell_type": "markdown",
   "id": "fd276258",
   "metadata": {},
   "source": [
    "## Imputation for group 2"
   ]
  },
  {
   "cell_type": "code",
   "execution_count": null,
   "id": "d96d4a95",
   "metadata": {},
   "outputs": [],
   "source": [
    "for filename in [\"imputation/to_impute_great_shap.csv\", \"imputation/to_impute_great_lime.csv\"]:\n",
    "    print(filename)\n",
    "    df = pd.read_csv(filename) # Introduces new index.\n",
    "    #df.rename(columns = {'50K':'income', \"education-num\": \"education_num\"}, inplace = True)\n",
    "    \n",
    "    dfclone = df.copy().drop([\"rank\", \"index\"], axis=1)\n",
    "    # We dont know the label, but we would require a new model to impute only other features, so we impute it as well and drop it again\n",
    "    dfclone[\"income\"] = np.nan # \n",
    "\n",
    "    df_synth_miss = model.impute(dfclone, max_length=200, max_retries=10)\n",
    "    df_synth_miss.drop([\"income\"], axis=1)\n",
    "    # Append old columns again. Careful, some imputatitions may have failed...\n",
    "    df_synth_miss = pd.concat((df.loc[df_synth_miss.index, [\"rank\", \"index\" , \"income\"]], df_synth_miss), axis=1)\n",
    "    \n",
    "    #df_synth_miss=df_synth_miss.set_index(df.index)\n",
    "    df_synth_miss.to_csv(filename[:-4]+ \"_imputed.csv\", index=False)"
   ]
  },
  {
   "cell_type": "code",
   "execution_count": null,
   "id": "1b58c11d",
   "metadata": {},
   "outputs": [],
   "source": []
  }
 ],
 "metadata": {
  "kernelspec": {
   "display_name": "data-science",
   "language": "python",
   "name": "data-science"
  },
  "language_info": {
   "codemirror_mode": {
    "name": "ipython",
    "version": 3
   },
   "file_extension": ".py",
   "mimetype": "text/x-python",
   "name": "python",
   "nbconvert_exporter": "python",
   "pygments_lexer": "ipython3",
   "version": "3.9.13"
  }
 },
 "nbformat": 4,
 "nbformat_minor": 5
}
