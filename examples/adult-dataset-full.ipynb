{
 "cells": [
  {
   "attachments": {},
   "cell_type": "markdown",
   "metadata": {},
   "source": [
    "# 0.0 IMPORTS"
   ]
  },
  {
   "cell_type": "code",
   "execution_count": 1,
   "metadata": {},
   "outputs": [],
   "source": [
    "import os\n",
    "import sys\n",
    "os.environ['CUDA_VISIBLE_DEVICES'] = \"0\"\n",
    "sys.path.append(\"..\")\n",
    "sys.path.append('/home/nonroot/metrics')\n",
    "\n",
    "os.chdir(\"..\")\n",
    "\n",
    "import logging\n",
    "import matplotlib.pyplot as plt\n",
    "import numpy as np\n",
    "import pandas as pd\n",
    "import torch\n",
    "import torch.nn as nn\n",
    "from be_great import GReaT\n",
    "\n",
    "from sklearn import datasets\n",
    "from sklearn.model_selection import train_test_split\n",
    "from sklearn.metrics import accuracy_score\n",
    "from sklearn.ensemble import RandomForestRegressor, RandomForestClassifier\n",
    "\n",
    "from utils import set_logging_level\n",
    "from metrics import *\n",
    "\n",
    "logger = set_logging_level(logging.INFO)\n",
    "\n",
    "%load_ext autoreload\n",
    "%autoreload 2"
   ]
  },
  {
   "attachments": {},
   "cell_type": "markdown",
   "metadata": {},
   "source": [
    "## 0.1 Load Data"
   ]
  },
  {
   "cell_type": "code",
   "execution_count": 2,
   "metadata": {},
   "outputs": [],
   "source": [
    "# Load the original data files\n",
    "df = pd.read_csv('/home/nonroot/data/adult/adult.csv')\n",
    "\n",
    "df_train, df_test = train_test_split(df, test_size=0.2, random_state=42)"
   ]
  },
  {
   "cell_type": "code",
   "execution_count": 3,
   "metadata": {},
   "outputs": [
    {
     "data": {
      "text/plain": [
       "(26048, 6513)"
      ]
     },
     "execution_count": 3,
     "metadata": {},
     "output_type": "execute_result"
    }
   ],
   "source": [
    "df_train, df_test = train_test_split(df, test_size=0.2, random_state=42)\n",
    "\n",
    "\n",
    "len(df_train), len(df_test)"
   ]
  },
  {
   "attachments": {},
   "cell_type": "markdown",
   "metadata": {},
   "source": [
    "## 0.2 Simple Analyzing"
   ]
  },
  {
   "cell_type": "code",
   "execution_count": 8,
   "metadata": {},
   "outputs": [
    {
     "data": {
      "text/plain": [
       "array(['<=50K', '>50K'], dtype=object)"
      ]
     },
     "execution_count": 8,
     "metadata": {},
     "output_type": "execute_result"
    }
   ],
   "source": [
    "df_train['income'].unique()"
   ]
  },
  {
   "cell_type": "code",
   "execution_count": 9,
   "metadata": {},
   "outputs": [
    {
     "data": {
      "text/plain": [
       "<=50K    0.75919\n",
       ">50K     0.24081\n",
       "Name: income, dtype: float64"
      ]
     },
     "execution_count": 9,
     "metadata": {},
     "output_type": "execute_result"
    }
   ],
   "source": [
    "def calculate_probability_distribution(df, column_name):\n",
    "    total_records = len(df)\n",
    "    value_counts = df[column_name].value_counts()\n",
    "    probabilities = value_counts / total_records\n",
    "    return probabilities\n",
    "\n",
    "income_prob_distribution = calculate_probability_distribution(df, 'income')\n",
    "income_prob_distribution"
   ]
  },
  {
   "attachments": {},
   "cell_type": "markdown",
   "metadata": {},
   "source": [
    "# 1.0 MODEL"
   ]
  },
  {
   "cell_type": "code",
   "execution_count": null,
   "metadata": {},
   "outputs": [],
   "source": [
    "great = GReaT(\"distilgpt2\",                                 # Name of the large language model used (see HuggingFace for more options)\n",
    "              epochs=20,                                    # Number of epochs to train (only one epoch for demonstration) \n",
    "              batch_size=8,                           \n",
    "              save_steps=2000,                             # Save model weights every x steps                      \n",
    "              logging_steps=2000,                          # Log the loss and learning rate every x steps\n",
    "              experiment_dir=\"experiments/trainer_adult\"    # Name of the directory where all intermediate steps are saved\n",
    "             )"
   ]
  },
  {
   "attachments": {},
   "cell_type": "markdown",
   "metadata": {},
   "source": [
    "# 2.0 TRAINING (Fine-tuning)"
   ]
  },
  {
   "cell_type": "code",
   "execution_count": null,
   "metadata": {},
   "outputs": [],
   "source": [
    "trainer = great.fit(df_train, resume_from_checkpoint=True)"
   ]
  },
  {
   "attachments": {},
   "cell_type": "markdown",
   "metadata": {},
   "source": [
    "# 3.0 MODEL EVALUATION"
   ]
  },
  {
   "cell_type": "code",
   "execution_count": null,
   "metadata": {},
   "outputs": [],
   "source": [
    "loss_hist = trainer.state.log_history.copy()\n",
    "loss_hist.pop()\n",
    "\n",
    "loss = [x[\"loss\"] for x in loss_hist]\n",
    "epochs = [x[\"epoch\"] for x in loss_hist]\n",
    "\n",
    "plt.plot(epochs, loss)"
   ]
  },
  {
   "attachments": {},
   "cell_type": "markdown",
   "metadata": {},
   "source": [
    "# 3.0 SAVE MODEL"
   ]
  },
  {
   "cell_type": "code",
   "execution_count": null,
   "metadata": {},
   "outputs": [],
   "source": [
    "great.save('models/adult')"
   ]
  },
  {
   "attachments": {},
   "cell_type": "markdown",
   "metadata": {},
   "source": [
    "# 4.0 LOAD MODEL\n"
   ]
  },
  {
   "cell_type": "code",
   "execution_count": 4,
   "metadata": {},
   "outputs": [],
   "source": [
    "great = GReaT.load_from_dir(\"models/adult\")"
   ]
  },
  {
   "attachments": {},
   "cell_type": "markdown",
   "metadata": {},
   "source": [
    "# 5.0 GENERATE SAMPLE"
   ]
  },
  {
   "cell_type": "code",
   "execution_count": 5,
   "metadata": {},
   "outputs": [],
   "source": [
    "n_samples = 500"
   ]
  },
  {
   "attachments": {},
   "cell_type": "markdown",
   "metadata": {},
   "source": [
    "## 5.1 Generate Using Conditional of Fine-tuning Phase"
   ]
  },
  {
   "cell_type": "code",
   "execution_count": 6,
   "metadata": {},
   "outputs": [
    {
     "name": "stderr",
     "output_type": "stream",
     "text": [
      "501it [00:17, 27.97it/s]                         \n"
     ]
    }
   ],
   "source": [
    "# Aqui, se eu não especificar a coluna de onde irá iniciar a geração do dataset, \n",
    "# ele utilizará a do fine-tuning. \n",
    "\n",
    "samples_finetuning_default = great.sample(n_samples, k=100, device=\"cuda:0\")"
   ]
  },
  {
   "cell_type": "code",
   "execution_count": 10,
   "metadata": {},
   "outputs": [
    {
     "data": {
      "text/plain": [
       "(500, 15)"
      ]
     },
     "execution_count": 10,
     "metadata": {},
     "output_type": "execute_result"
    }
   ],
   "source": [
    "samples_finetuning_default.shape"
   ]
  },
  {
   "cell_type": "code",
   "execution_count": 11,
   "metadata": {},
   "outputs": [
    {
     "data": {
      "text/plain": [
       "array(['<=50K', '>50K'], dtype=object)"
      ]
     },
     "execution_count": 11,
     "metadata": {},
     "output_type": "execute_result"
    }
   ],
   "source": [
    "samples_finetuning_default['income'].unique()"
   ]
  },
  {
   "cell_type": "code",
   "execution_count": 12,
   "metadata": {},
   "outputs": [
    {
     "data": {
      "text/plain": [
       "<=50K    0.864\n",
       ">50K     0.136\n",
       "Name: income, dtype: float64"
      ]
     },
     "execution_count": 12,
     "metadata": {},
     "output_type": "execute_result"
    }
   ],
   "source": [
    "income_prob_distribution = calculate_probability_distribution(samples_finetuning_default, 'income')\n",
    "income_prob_distribution\n"
   ]
  },
  {
   "cell_type": "code",
   "execution_count": 39,
   "metadata": {},
   "outputs": [],
   "source": [
    "samples_finetuning_default.to_csv(\"data/adult/sample/sample_adult_sample_20epochs_distilgpt2.csv\")"
   ]
  },
  {
   "attachments": {},
   "cell_type": "markdown",
   "metadata": {},
   "source": [
    "## 5.2 Conditional Generation Based in Categorical Feature with Weight Probability"
   ]
  },
  {
   "cell_type": "code",
   "execution_count": 14,
   "metadata": {},
   "outputs": [
    {
     "data": {
      "text/plain": [
       "array([26, 24, 36, 22, 31, 43, 20, 55, 19, 46, 51, 35, 65, 68, 25, 38, 56,\n",
       "       39, 29, 53, 27, 42, 41, 90, 34, 62, 21, 50, 18, 49, 60, 47, 40, 54,\n",
       "       48, 37, 59, 23, 66, 57, 28, 45, 32, 44, 73, 77, 33, 17, 58, 64, 70,\n",
       "       30, 61, 52, 63, 69, 78, 67, 71, 72, 74, 80, 75, 82, 79, 81, 84, 76,\n",
       "       83, 87, 85, 88, 86])"
      ]
     },
     "execution_count": 14,
     "metadata": {},
     "output_type": "execute_result"
    }
   ],
   "source": [
    "df_train['age'].unique()"
   ]
  },
  {
   "cell_type": "code",
   "execution_count": 15,
   "metadata": {},
   "outputs": [
    {
     "data": {
      "text/plain": [
       "31    0.028140\n",
       "34    0.027641\n",
       "36    0.027296\n",
       "33    0.027104\n",
       "37    0.027104\n",
       "        ...   \n",
       "83    0.000192\n",
       "85    0.000077\n",
       "87    0.000038\n",
       "88    0.000038\n",
       "86    0.000038\n",
       "Name: age, Length: 73, dtype: float64"
      ]
     },
     "execution_count": 15,
     "metadata": {},
     "output_type": "execute_result"
    }
   ],
   "source": [
    "income_prob_distribution = calculate_probability_distribution(df_train, 'age')\n",
    "income_prob_distribution"
   ]
  },
  {
   "cell_type": "code",
   "execution_count": 16,
   "metadata": {},
   "outputs": [
    {
     "name": "stderr",
     "output_type": "stream",
     "text": [
      "509it [00:24, 20.65it/s]                         \n"
     ]
    }
   ],
   "source": [
    "sample_only_1 = great.sample(n_samples, k=100, device=\"cuda:0\", start_col='age', start_col_dist={'87': 0.3, '88': 0.2, '86': 0.3, '85':0.2})"
   ]
  },
  {
   "cell_type": "code",
   "execution_count": 17,
   "metadata": {},
   "outputs": [
    {
     "data": {
      "text/plain": [
       "array([85., 86., 87., 88.])"
      ]
     },
     "execution_count": 17,
     "metadata": {},
     "output_type": "execute_result"
    }
   ],
   "source": [
    "sample_only_1['age'].unique()"
   ]
  },
  {
   "cell_type": "code",
   "execution_count": 18,
   "metadata": {},
   "outputs": [
    {
     "data": {
      "text/plain": [
       "87.0    0.330\n",
       "86.0    0.306\n",
       "88.0    0.194\n",
       "85.0    0.170\n",
       "Name: age, dtype: float64"
      ]
     },
     "execution_count": 18,
     "metadata": {},
     "output_type": "execute_result"
    }
   ],
   "source": [
    "income_prob_distribution = calculate_probability_distribution(sample_only_1, 'age')\n",
    "income_prob_distribution"
   ]
  },
  {
   "attachments": {},
   "cell_type": "markdown",
   "metadata": {},
   "source": [
    "## 5.3 Conditional Generation Based in Categorical Feature with Range Values"
   ]
  },
  {
   "cell_type": "code",
   "execution_count": 19,
   "metadata": {},
   "outputs": [],
   "source": [
    "possible_ages = list(range(50, 61))"
   ]
  },
  {
   "cell_type": "code",
   "execution_count": 20,
   "metadata": {},
   "outputs": [
    {
     "name": "stderr",
     "output_type": "stream",
     "text": [
      "505it [00:35, 14.33it/s]                         \n"
     ]
    }
   ],
   "source": [
    "sample_only_1_rangevalue = great.sample(n_samples, k=100, device=\"cuda:0\", start_col='age', start_col_dist=possible_ages)"
   ]
  },
  {
   "cell_type": "code",
   "execution_count": 21,
   "metadata": {},
   "outputs": [
    {
     "data": {
      "text/plain": [
       "array([60., 51., 59., 58., 56., 54., 50., 52., 53., 55., 57.])"
      ]
     },
     "execution_count": 21,
     "metadata": {},
     "output_type": "execute_result"
    }
   ],
   "source": [
    "sample_only_1_rangevalue['age'].unique()"
   ]
  },
  {
   "cell_type": "code",
   "execution_count": 22,
   "metadata": {},
   "outputs": [
    {
     "data": {
      "text/plain": [
       "59.0    0.124\n",
       "53.0    0.116\n",
       "51.0    0.100\n",
       "55.0    0.098\n",
       "56.0    0.096\n",
       "60.0    0.094\n",
       "54.0    0.088\n",
       "58.0    0.082\n",
       "50.0    0.072\n",
       "57.0    0.066\n",
       "52.0    0.064\n",
       "Name: age, dtype: float64"
      ]
     },
     "execution_count": 22,
     "metadata": {},
     "output_type": "execute_result"
    }
   ],
   "source": [
    "income_prob_distribution = calculate_probability_distribution(sample_only_1_rangevalue, 'age')\n",
    "income_prob_distribution"
   ]
  },
  {
   "attachments": {},
   "cell_type": "markdown",
   "metadata": {},
   "source": [
    "## 5.4 Conditional Generation Based in Prompts"
   ]
  },
  {
   "cell_type": "code",
   "execution_count": 23,
   "metadata": {},
   "outputs": [],
   "source": [
    "prompt1 = \"Age is 25, Sex is male\"\n",
    "generated_samples1 = great.great_sample(starting_prompts=prompt1, temperature=0.7, max_length=200)\n"
   ]
  },
  {
   "cell_type": "code",
   "execution_count": 24,
   "metadata": {},
   "outputs": [
    {
     "data": {
      "text/html": [
       "<div>\n",
       "<style scoped>\n",
       "    .dataframe tbody tr th:only-of-type {\n",
       "        vertical-align: middle;\n",
       "    }\n",
       "\n",
       "    .dataframe tbody tr th {\n",
       "        vertical-align: top;\n",
       "    }\n",
       "\n",
       "    .dataframe thead th {\n",
       "        text-align: right;\n",
       "    }\n",
       "</style>\n",
       "<table border=\"1\" class=\"dataframe\">\n",
       "  <thead>\n",
       "    <tr style=\"text-align: right;\">\n",
       "      <th></th>\n",
       "      <th>age</th>\n",
       "      <th>workclass</th>\n",
       "      <th>fnlwgt</th>\n",
       "      <th>education</th>\n",
       "      <th>education.num</th>\n",
       "      <th>marital.status</th>\n",
       "      <th>occupation</th>\n",
       "      <th>relationship</th>\n",
       "      <th>race</th>\n",
       "      <th>sex</th>\n",
       "      <th>capital.gain</th>\n",
       "      <th>capital.loss</th>\n",
       "      <th>hours.per.week</th>\n",
       "      <th>native.country</th>\n",
       "      <th>income</th>\n",
       "    </tr>\n",
       "  </thead>\n",
       "  <tbody>\n",
       "    <tr>\n",
       "      <th>0</th>\n",
       "      <td>None</td>\n",
       "      <td>Private</td>\n",
       "      <td>172591</td>\n",
       "      <td>HS-grad</td>\n",
       "      <td>9</td>\n",
       "      <td>Never-married</td>\n",
       "      <td>Handlers-cleaners</td>\n",
       "      <td>Own-child</td>\n",
       "      <td>White</td>\n",
       "      <td>None</td>\n",
       "      <td>0</td>\n",
       "      <td>0</td>\n",
       "      <td>40</td>\n",
       "      <td>United-States</td>\n",
       "      <td>&lt;=50K</td>\n",
       "    </tr>\n",
       "  </tbody>\n",
       "</table>\n",
       "</div>"
      ],
      "text/plain": [
       "    age workclass  fnlwgt education education.num marital.status  \\\n",
       "0  None   Private  172591   HS-grad             9  Never-married   \n",
       "\n",
       "          occupation relationship   race   sex capital.gain capital.loss  \\\n",
       "0  Handlers-cleaners    Own-child  White  None            0            0   \n",
       "\n",
       "  hours.per.week native.country income  \n",
       "0             40  United-States  <=50K  "
      ]
     },
     "execution_count": 24,
     "metadata": {},
     "output_type": "execute_result"
    }
   ],
   "source": [
    "generated_samples1.head()"
   ]
  },
  {
   "attachments": {},
   "cell_type": "markdown",
   "metadata": {},
   "source": [
    "## 5.5 Data Imputation"
   ]
  },
  {
   "cell_type": "code",
   "execution_count": 25,
   "metadata": {},
   "outputs": [
    {
     "name": "stderr",
     "output_type": "stream",
     "text": [
      "506it [00:18, 26.81it/s]                         \n"
     ]
    }
   ],
   "source": [
    "\n",
    "missing_data = great.sample(n_samples, k=100, device=\"cuda:0\", start_col='income', start_col_dist={'<=50K': 0.30, '>50K': 0.50, 'NaN': 0.20})\n"
   ]
  },
  {
   "cell_type": "code",
   "execution_count": 26,
   "metadata": {},
   "outputs": [
    {
     "data": {
      "text/plain": [
       "array(['NaN', '>50K', '<=50K'], dtype=object)"
      ]
     },
     "execution_count": 26,
     "metadata": {},
     "output_type": "execute_result"
    }
   ],
   "source": [
    "missing_data['income'].unique()"
   ]
  },
  {
   "cell_type": "code",
   "execution_count": 27,
   "metadata": {},
   "outputs": [],
   "source": [
    "missing_data.replace(\"NaN\", np.nan, inplace=True)"
   ]
  },
  {
   "cell_type": "code",
   "execution_count": 28,
   "metadata": {},
   "outputs": [
    {
     "data": {
      "text/plain": [
       "age                 0\n",
       "workclass           0\n",
       "fnlwgt              0\n",
       "education           0\n",
       "education.num       0\n",
       "marital.status      0\n",
       "occupation          0\n",
       "relationship        0\n",
       "race                0\n",
       "sex                 0\n",
       "capital.gain        0\n",
       "capital.loss        0\n",
       "hours.per.week      0\n",
       "native.country      0\n",
       "income            109\n",
       "dtype: int64"
      ]
     },
     "execution_count": 28,
     "metadata": {},
     "output_type": "execute_result"
    }
   ],
   "source": [
    "missing_data.isnull().sum()"
   ]
  },
  {
   "cell_type": "code",
   "execution_count": 22,
   "metadata": {},
   "outputs": [
    {
     "data": {
      "text/plain": [
       "<=50K    0.386\n",
       ">50K     0.376\n",
       "Name: income, dtype: float64"
      ]
     },
     "execution_count": 22,
     "metadata": {},
     "output_type": "execute_result"
    }
   ],
   "source": [
    "income_prob_distribution = calculate_probability_distribution(missing_data, 'income')\n",
    "income_prob_distribution"
   ]
  },
  {
   "cell_type": "code",
   "execution_count": 29,
   "metadata": {},
   "outputs": [
    {
     "name": "stderr",
     "output_type": "stream",
     "text": [
      "100%|██████████| 500/500 [00:11<00:00, 44.62it/s]\n"
     ]
    }
   ],
   "source": [
    "df_imputed = great.impute(missing_data, temperature=0.7, k=100, max_length=200)"
   ]
  },
  {
   "cell_type": "code",
   "execution_count": 30,
   "metadata": {},
   "outputs": [
    {
     "data": {
      "text/plain": [
       "array(['>50K', '<=50K'], dtype=object)"
      ]
     },
     "execution_count": 30,
     "metadata": {},
     "output_type": "execute_result"
    }
   ],
   "source": [
    "df_imputed['income'].unique()"
   ]
  },
  {
   "cell_type": "code",
   "execution_count": 31,
   "metadata": {},
   "outputs": [
    {
     "data": {
      "text/plain": [
       "<=50K    0.562\n",
       ">50K     0.438\n",
       "Name: income, dtype: float64"
      ]
     },
     "execution_count": 31,
     "metadata": {},
     "output_type": "execute_result"
    }
   ],
   "source": [
    "income_prob_distribution = calculate_probability_distribution(df_imputed, 'income')\n",
    "income_prob_distribution"
   ]
  },
  {
   "cell_type": "code",
   "execution_count": 32,
   "metadata": {},
   "outputs": [
    {
     "data": {
      "text/plain": [
       "age               0\n",
       "workclass         0\n",
       "fnlwgt            0\n",
       "education         0\n",
       "education.num     0\n",
       "marital.status    0\n",
       "occupation        0\n",
       "relationship      0\n",
       "race              0\n",
       "sex               0\n",
       "capital.gain      0\n",
       "capital.loss      0\n",
       "hours.per.week    0\n",
       "native.country    0\n",
       "income            0\n",
       "dtype: int64"
      ]
     },
     "execution_count": 32,
     "metadata": {},
     "output_type": "execute_result"
    }
   ],
   "source": [
    "df_imputed.isnull().sum()"
   ]
  },
  {
   "attachments": {},
   "cell_type": "markdown",
   "metadata": {},
   "source": [
    "# 6.0 DATASET EVALUATION"
   ]
  },
  {
   "cell_type": "code",
   "execution_count": 33,
   "metadata": {},
   "outputs": [],
   "source": [
    "model = GReaT.load_from_dir(\"models/adult\")"
   ]
  },
  {
   "cell_type": "code",
   "execution_count": 34,
   "metadata": {},
   "outputs": [
    {
     "name": "stdout",
     "output_type": "stream",
     "text": [
      "Generating data for model adult ...\n"
     ]
    },
    {
     "name": "stderr",
     "output_type": "stream",
     "text": [
      "2006it [01:08, 29.22it/s]                          \n",
      "100%|██████████| 500/500 [00:17<00:00, 29.22it/s]\n"
     ]
    }
   ],
   "source": [
    "# Load the original data files\n",
    "dp = DataProvider(df_train[:2000], df_test[:500], {\"adult\": model})"
   ]
  },
  {
   "cell_type": "code",
   "execution_count": 21,
   "metadata": {},
   "outputs": [
    {
     "data": {
      "text/plain": [
       "(2000, 15)"
      ]
     },
     "execution_count": 21,
     "metadata": {},
     "output_type": "execute_result"
    }
   ],
   "source": [
    "dp.get_full_data(\"original\", train=True).shape"
   ]
  },
  {
   "cell_type": "code",
   "execution_count": 22,
   "metadata": {},
   "outputs": [
    {
     "data": {
      "text/plain": [
       "(500, 15)"
      ]
     },
     "execution_count": 22,
     "metadata": {},
     "output_type": "execute_result"
    }
   ],
   "source": [
    "dp.get_full_data(\"original\", train=False).shape"
   ]
  },
  {
   "attachments": {},
   "cell_type": "markdown",
   "metadata": {},
   "source": [
    "## 6.1 Discriminator metric"
   ]
  },
  {
   "cell_type": "code",
   "execution_count": 31,
   "metadata": {},
   "outputs": [],
   "source": [
    "disc_metric = DiscriminatorMetric(dp, accuracy_score, n_runs = 4)"
   ]
  },
  {
   "cell_type": "code",
   "execution_count": 32,
   "metadata": {},
   "outputs": [
    {
     "name": "stderr",
     "output_type": "stream",
     "text": [
      "\u001b[39;20m2023-08-25 05:57:10,211 - INFO - Inside of get_full_data()... (data_provider.py:41)\u001b[0m\n",
      "\u001b[39;20m2023-08-25 05:57:10,211 - INFO - Model Type is original? original (data_provider.py:43)\u001b[0m\n",
      "\u001b[39;20m2023-08-25 05:57:10,212 - INFO - Get Original Dataset Train (data_provider.py:45)\u001b[0m\n"
     ]
    },
    {
     "name": "stdout",
     "output_type": "stream",
     "text": [
      "metrics/config/adult/config.json\n",
      "metrics/config/adult/config.json\n"
     ]
    },
    {
     "name": "stderr",
     "output_type": "stream",
     "text": [
      "/home/nonroot/metrics/discriminator_metric.py:74: SettingWithCopyWarning: \n",
      "A value is trying to be set on a copy of a slice from a DataFrame.\n",
      "Try using .loc[row_indexer,col_indexer] = value instead\n",
      "\n",
      "See the caveats in the documentation: https://pandas.pydata.org/pandas-docs/stable/user_guide/indexing.html#returning-a-view-versus-a-copy\n",
      "  df_train[discrete_cols] = self.cat_encoder.transform(df_train[discrete_cols])\n",
      "\u001b[39;20m2023-08-25 05:57:10,624 - INFO - Inside of get_full_data()... (data_provider.py:41)\u001b[0m\n",
      "\u001b[39;20m2023-08-25 05:57:10,624 - INFO - Dont model type original (data_provider.py:51)\u001b[0m\n",
      "\u001b[39;20m2023-08-25 05:57:10,625 - INFO - Get Non-Original Dataset Train (data_provider.py:53)\u001b[0m\n",
      "\u001b[39;20m2023-08-25 05:57:10,638 - INFO - Inside of get_full_data()... (data_provider.py:41)\u001b[0m\n",
      "\u001b[39;20m2023-08-25 05:57:10,639 - INFO - Model Type is original? original (data_provider.py:43)\u001b[0m\n",
      "\u001b[39;20m2023-08-25 05:57:10,639 - INFO - Get Original Dataset Test (data_provider.py:48)\u001b[0m\n",
      "/home/nonroot/metrics/discriminator_metric.py:86: SettingWithCopyWarning: \n",
      "A value is trying to be set on a copy of a slice from a DataFrame.\n",
      "Try using .loc[row_indexer,col_indexer] = value instead\n",
      "\n",
      "See the caveats in the documentation: https://pandas.pydata.org/pandas-docs/stable/user_guide/indexing.html#returning-a-view-versus-a-copy\n",
      "  df_test[discrete_cols] = self.cat_encoder.transform(df_test[discrete_cols])\n",
      "\u001b[39;20m2023-08-25 05:57:10,747 - INFO - Inside of get_full_data()... (data_provider.py:41)\u001b[0m\n",
      "\u001b[39;20m2023-08-25 05:57:10,747 - INFO - Dont model type original (data_provider.py:51)\u001b[0m\n",
      "\u001b[39;20m2023-08-25 05:57:10,747 - INFO - Get Non-Original Dataset Test (data_provider.py:56)\u001b[0m\n"
     ]
    }
   ],
   "source": [
    "metric_result = disc_metric(\"adult\", \"adult\")"
   ]
  },
  {
   "cell_type": "code",
   "execution_count": 33,
   "metadata": {},
   "outputs": [
    {
     "data": {
      "text/plain": [
       "{'discriminator_mean': 0.7905000000000001,\n",
       " 'discriminator_std': 0.004031128874149278}"
      ]
     },
     "execution_count": 33,
     "metadata": {},
     "output_type": "execute_result"
    }
   ],
   "source": [
    "metric_result"
   ]
  },
  {
   "attachments": {},
   "cell_type": "markdown",
   "metadata": {},
   "source": [
    "## 6.2 Machine Learning Efficiency Metric"
   ]
  },
  {
   "cell_type": "code",
   "execution_count": 41,
   "metadata": {},
   "outputs": [],
   "source": [
    "mle = MLEfficiency(dp, model=RandomForestClassifier, metric=accuracy_score, params={\"n_estimators\": 100})"
   ]
  },
  {
   "cell_type": "code",
   "execution_count": null,
   "metadata": {},
   "outputs": [],
   "source": [
    "results = mle(dataset_name=\"adult\", model_name=\"adult\")\n"
   ]
  },
  {
   "attachments": {},
   "cell_type": "markdown",
   "metadata": {},
   "source": [
    "## 6.3 Distance to closest record"
   ]
  },
  {
   "cell_type": "code",
   "execution_count": 35,
   "metadata": {},
   "outputs": [],
   "source": [
    "dtcr_metric = DTCR(dp, n_samples=500)"
   ]
  },
  {
   "cell_type": "code",
   "execution_count": 36,
   "metadata": {},
   "outputs": [
    {
     "name": "stderr",
     "output_type": "stream",
     "text": [
      "\u001b[39;20m2023-08-25 12:37:40,872 - INFO - Inside of get_full_data()... (data_provider.py:41)\u001b[0m\n",
      "\u001b[39;20m2023-08-25 12:37:40,873 - INFO - Model Type is original? original (data_provider.py:43)\u001b[0m\n",
      "\u001b[39;20m2023-08-25 12:37:40,873 - INFO - Get Original Dataset Train (data_provider.py:45)\u001b[0m\n"
     ]
    },
    {
     "name": "stdout",
     "output_type": "stream",
     "text": [
      "metrics/config/adult/config.json\n",
      "metrics/config/adult/config.json\n",
      "(500, 15)\n"
     ]
    }
   ],
   "source": [
    "metric_res = dtcr_metric(\"adult\", \"adult\")"
   ]
  },
  {
   "cell_type": "code",
   "execution_count": 37,
   "metadata": {},
   "outputs": [
    {
     "data": {
      "text/plain": [
       "(0.0, 500.0)"
      ]
     },
     "execution_count": 37,
     "metadata": {},
     "output_type": "execute_result"
    },
    {
     "data": {
      "image/png": "[encoded data removed]",
      "text/plain": [
       "<Figure size 432x288 with 1 Axes>"
      ]
     },
     "metadata": {
      "needs_background": "light"
     },
     "output_type": "display_data"
    }
   ],
   "source": [
    "plt.hist(metric_res[\"mins\"], bins=1500)\n",
    "plt.xlim([0,500])"
   ]
  },
  {
   "cell_type": "code",
   "execution_count": 38,
   "metadata": {},
   "outputs": [
    {
     "name": "stdout",
     "output_type": "stream",
     "text": [
      "Identical records:  0 of 500\n"
     ]
    }
   ],
   "source": [
    "min_arr = np.array(metric_res[\"mins\"])\n",
    "print(\"Identical records: \", np.sum(min_arr==0), \"of\", len(min_arr))"
   ]
  },
  {
   "cell_type": "code",
   "execution_count": 39,
   "metadata": {},
   "outputs": [],
   "source": [
    "## How many duplicates in one generated dataset?\n",
    "ndr = NonDuplicateRate(dp, n_samples=500)"
   ]
  },
  {
   "cell_type": "code",
   "execution_count": 40,
   "metadata": {},
   "outputs": [
    {
     "data": {
      "text/plain": [
       "{'non_dup_rate': 0.878}"
      ]
     },
     "execution_count": 40,
     "metadata": {},
     "output_type": "execute_result"
    }
   ],
   "source": [
    "ndr(\"adult\", \"adult\")"
   ]
  }
 ],
 "metadata": {
  "kernelspec": {
   "display_name": "Python 3",
   "language": "python",
   "name": "python3"
  },
  "language_info": {
   "codemirror_mode": {
    "name": "ipython",
    "version": 3
   },
   "file_extension": ".py",
   "mimetype": "text/x-python",
   "name": "python",
   "nbconvert_exporter": "python",
   "pygments_lexer": "ipython3",
   "version": "3.8.10"
  },
  "orig_nbformat": 4,
  "vscode": {
   "interpreter": {
    "hash": "916dbcbb3f70747c44a77c7bcd40155683ae19c65e1c03b4aa3499c5328201f1"
   }
  }
 },
 "nbformat": 4,
 "nbformat_minor": 2
}
